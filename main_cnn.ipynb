{
 "cells": [
  {
   "cell_type": "code",
   "execution_count": 1,
   "metadata": {
    "_cell_guid": "b1076dfc-b9ad-4769-8c92-a6c4dae69d19",
    "_uuid": "8f2839f25d086af736a60e9eeb907d3b93b6e0e5",
    "execution": {
     "iopub.execute_input": "2020-12-28T04:40:18.885081Z",
     "iopub.status.busy": "2020-12-28T04:40:18.884129Z",
     "iopub.status.idle": "2020-12-28T04:40:18.890040Z",
     "shell.execute_reply": "2020-12-28T04:40:18.889357Z"
    },
    "papermill": {
     "duration": 0.024303,
     "end_time": "2020-12-28T04:40:18.890176",
     "exception": false,
     "start_time": "2020-12-28T04:40:18.865873",
     "status": "completed"
    },
    "tags": []
   },
   "outputs": [
    {
     "name": "stdout",
     "output_type": "stream",
     "text": [
      "/kaggle/input/digit-recognizer/sample_submission.csv\n",
      "/kaggle/input/digit-recognizer/train.csv\n",
      "/kaggle/input/digit-recognizer/test.csv\n"
     ]
    }
   ],
   "source": [
    "# This Python 3 environment comes with many helpful analytics libraries installed\n",
    "# It is defined by the kaggle/python Docker image: https://github.com/kaggle/docker-python\n",
    "# For example, here's several helpful packages to load\n",
    "\n",
    "import numpy as np # linear algebra\n",
    "import pandas as pd # data processing, CSV file I/O (e.g. pd.read_csv)\n",
    "\n",
    "# Input data files are available in the read-only \"../input/\" directory\n",
    "# For example, running this (by clicking run or pressing Shift+Enter) will list all files under the input directory\n",
    "\n",
    "import os\n",
    "for dirname, _, filenames in os.walk('/kaggle/input'):\n",
    "    for filename in filenames:\n",
    "        print(os.path.join(dirname, filename))\n",
    "\n",
    "# You can write up to 20GB to the current directory (/kaggle/working/) that gets preserved as output when you create a version using \"Save & Run All\" \n",
    "# You can also write temporary files to /kaggle/temp/, but they won't be saved outside of the current session"
   ]
  },
  {
   "cell_type": "code",
   "execution_count": 2,
   "metadata": {
    "_cell_guid": "79c7e3d0-c299-4dcb-8224-4455121ee9b0",
    "_uuid": "d629ff2d2480ee46fbb7e2d37f6b5fab8052498a",
    "execution": {
     "iopub.execute_input": "2020-12-28T04:40:18.982955Z",
     "iopub.status.busy": "2020-12-28T04:40:18.981887Z",
     "iopub.status.idle": "2020-12-28T04:40:24.334458Z",
     "shell.execute_reply": "2020-12-28T04:40:24.333642Z"
    },
    "papermill": {
     "duration": 5.415577,
     "end_time": "2020-12-28T04:40:24.334632",
     "exception": false,
     "start_time": "2020-12-28T04:40:18.919055",
     "status": "completed"
    },
    "tags": []
   },
   "outputs": [],
   "source": [
    "from keras.models import Sequential\n",
    "from keras.layers import Conv2D, Dense, BatchNormalization, Dropout, Activation, MaxPooling2D, Flatten\n",
    "from keras.utils.np_utils import to_categorical\n",
    "from keras import optimizers\n",
    "from keras.regularizers import l1\n",
    "from keras.callbacks import ReduceLROnPlateau\n",
    "import pandas as pd\n",
    "import time"
   ]
  },
  {
   "cell_type": "code",
   "execution_count": 3,
   "metadata": {
    "execution": {
     "iopub.execute_input": "2020-12-28T04:40:24.375452Z",
     "iopub.status.busy": "2020-12-28T04:40:24.373718Z",
     "iopub.status.idle": "2020-12-28T04:40:24.379711Z",
     "shell.execute_reply": "2020-12-28T04:40:24.378953Z"
    },
    "papermill": {
     "duration": 0.03004,
     "end_time": "2020-12-28T04:40:24.379854",
     "exception": false,
     "start_time": "2020-12-28T04:40:24.349814",
     "status": "completed"
    },
    "tags": []
   },
   "outputs": [],
   "source": [
    "def read_data(data_dir, is_train):\n",
    "    data = pd.read_csv(data_dir)\n",
    "    if is_train:\n",
    "        data    = data.sample(frac=1).reset_index(drop=True)\n",
    "        labels  = data[\"label\"]\n",
    "        labels  = to_categorical(labels)\n",
    "        data    = data.drop(\"label\", axis=1)\n",
    "        data    /= 255\n",
    "        return data, labels\n",
    "    else:\n",
    "        data /= 255\n",
    "        return data"
   ]
  },
  {
   "cell_type": "code",
   "execution_count": 4,
   "metadata": {
    "execution": {
     "iopub.execute_input": "2020-12-28T04:40:24.421655Z",
     "iopub.status.busy": "2020-12-28T04:40:24.418138Z",
     "iopub.status.idle": "2020-12-28T04:40:24.431940Z",
     "shell.execute_reply": "2020-12-28T04:40:24.431198Z"
    },
    "papermill": {
     "duration": 0.037155,
     "end_time": "2020-12-28T04:40:24.432087",
     "exception": false,
     "start_time": "2020-12-28T04:40:24.394932",
     "status": "completed"
    },
    "tags": []
   },
   "outputs": [],
   "source": [
    "def read_data_as_image(data_dir, is_train):\n",
    "    data = pd.read_csv(data_dir)\n",
    "    if is_train:\n",
    "        data = data.sample(frac=1).reset_index(drop=True)\n",
    "        labels = data[\"label\"]\n",
    "        labels = to_categorical(labels)\n",
    "        data = data.drop(\"label\", axis=1)\n",
    "        data /= 255\n",
    "        image_data = data.values\n",
    "        image_data = image_data.reshape((-1, 28, 28, 1))\n",
    "        return image_data, labels\n",
    "    else:\n",
    "        data /= 255\n",
    "        image_data = data.values\n",
    "        image_data = image_data.reshape((-1, 28, 28, 1))\n",
    "        return image_data"
   ]
  },
  {
   "cell_type": "code",
   "execution_count": 5,
   "metadata": {
    "execution": {
     "iopub.execute_input": "2020-12-28T04:40:24.473754Z",
     "iopub.status.busy": "2020-12-28T04:40:24.472854Z",
     "iopub.status.idle": "2020-12-28T04:40:24.477544Z",
     "shell.execute_reply": "2020-12-28T04:40:24.478650Z"
    },
    "papermill": {
     "duration": 0.03186,
     "end_time": "2020-12-28T04:40:24.478811",
     "exception": false,
     "start_time": "2020-12-28T04:40:24.446951",
     "status": "completed"
    },
    "tags": []
   },
   "outputs": [],
   "source": [
    "def build_model(layer_size, input_shape, regularizer, drop_size, num_of_classes, lr):\n",
    "    model = Sequential()\n",
    "\n",
    "    model.add(Dense(layer_size, activity_regularizer=regularizer, input_shape=input_shape))\n",
    "    model.add(BatchNormalization())\n",
    "    model.add(Activation('relu'))\n",
    "    model.add(Dropout(drop_size))\n",
    "\n",
    "    model.add(Dense(layer_size, activity_regularizer=regularizer))\n",
    "    model.add(BatchNormalization())\n",
    "    model.add(Activation('relu'))\n",
    "    model.add(Dropout(drop_size))\n",
    "\n",
    "    model.add(Dense(num_of_classes))\n",
    "    model.add(Activation(\"softmax\"))\n",
    "\n",
    "    optimizer = optimizers.Adam(lr=lr)\n",
    "    model.compile(optimizer=optimizer, loss='categorical_crossentropy', metrics=['accuracy'])\n",
    "\n",
    "    return model"
   ]
  },
  {
   "cell_type": "code",
   "execution_count": 6,
   "metadata": {
    "execution": {
     "iopub.execute_input": "2020-12-28T04:40:24.517494Z",
     "iopub.status.busy": "2020-12-28T04:40:24.516596Z",
     "iopub.status.idle": "2020-12-28T04:40:24.531966Z",
     "shell.execute_reply": "2020-12-28T04:40:24.533098Z"
    },
    "papermill": {
     "duration": 0.039244,
     "end_time": "2020-12-28T04:40:24.533294",
     "exception": false,
     "start_time": "2020-12-28T04:40:24.494050",
     "status": "completed"
    },
    "tags": []
   },
   "outputs": [],
   "source": [
    "def build_cnn_model(layer_size, input_shape, regularizer, drop_size, num_of_classes, lr):\n",
    "    model = Sequential()\n",
    "\n",
    "    model.add(Conv2D(layer_size, (3, 3), use_bias=False, input_shape=input_shape,\n",
    "                     activity_regularizer=regularizer))\n",
    "    model.add(BatchNormalization())\n",
    "    model.add(Activation('relu'))\n",
    "    model.add(MaxPooling2D(pool_size=(2, 2)))\n",
    "    model.add(Dropout(drop_size))\n",
    "\n",
    "    model.add(Conv2D(layer_size, (3, 3), use_bias=False, activity_regularizer=regularizer))\n",
    "    model.add(BatchNormalization())\n",
    "    model.add(Activation('relu'))\n",
    "    model.add(MaxPooling2D(pool_size=(2, 2)))\n",
    "    model.add(Dropout(drop_size))\n",
    "\n",
    "    model.add(Conv2D(layer_size, (3, 3), use_bias=False, activity_regularizer=regularizer))\n",
    "    model.add(BatchNormalization())\n",
    "    model.add(Activation('relu'))\n",
    "    model.add(MaxPooling2D(pool_size=(2, 2)))\n",
    "    model.add(Dropout(drop_size))\n",
    "\n",
    "    model.add(Flatten())\n",
    "    model.add(Dense(units=int(layer_size/8), use_bias=False))\n",
    "    model.add(BatchNormalization())\n",
    "    model.add(Activation('relu'))\n",
    "    model.add(Dropout(drop_size))\n",
    "\n",
    "    model.add(Dense(units=num_of_classes, use_bias=False))\n",
    "    model.add(BatchNormalization())\n",
    "    model.add(Activation('softmax'))\n",
    "\n",
    "    optimizer = optimizers.Adam(lr=lr)\n",
    "    model.compile(optimizer=optimizer, loss='categorical_crossentropy', metrics=['accuracy'])\n",
    "\n",
    "    return model"
   ]
  },
  {
   "cell_type": "code",
   "execution_count": 7,
   "metadata": {
    "execution": {
     "iopub.execute_input": "2020-12-28T04:40:24.571536Z",
     "iopub.status.busy": "2020-12-28T04:40:24.570722Z",
     "iopub.status.idle": "2020-12-28T04:40:31.955614Z",
     "shell.execute_reply": "2020-12-28T04:40:31.954666Z"
    },
    "papermill": {
     "duration": 7.407647,
     "end_time": "2020-12-28T04:40:31.955747",
     "exception": false,
     "start_time": "2020-12-28T04:40:24.548100",
     "status": "completed"
    },
    "tags": []
   },
   "outputs": [],
   "source": [
    "train_data_dir  = \"/kaggle/input/digit-recognizer/train.csv\"\n",
    "test_data_dir   = \"/kaggle/input/digit-recognizer/test.csv\"\n",
    "\n",
    "train_data, train_labels = read_data_as_image(train_data_dir, True)\n",
    "test_data = read_data_as_image(test_data_dir, False)"
   ]
  },
  {
   "cell_type": "code",
   "execution_count": 8,
   "metadata": {
    "execution": {
     "iopub.execute_input": "2020-12-28T04:40:31.985014Z",
     "iopub.status.busy": "2020-12-28T04:40:31.983077Z",
     "iopub.status.idle": "2020-12-28T04:40:31.985734Z",
     "shell.execute_reply": "2020-12-28T04:40:31.986189Z"
    },
    "papermill": {
     "duration": 0.019382,
     "end_time": "2020-12-28T04:40:31.986327",
     "exception": false,
     "start_time": "2020-12-28T04:40:31.966945",
     "status": "completed"
    },
    "tags": []
   },
   "outputs": [],
   "source": [
    "layer_size      = 2048\n",
    "# input_shape     = [train_data.shape[1]]\n",
    "input_shape     = (28, 28, 1)\n",
    "regularizer     = l1(0.001)\n",
    "drop_size       = 0.2\n",
    "num_of_classes  = 10\n",
    "lr              = 1e-5"
   ]
  },
  {
   "cell_type": "code",
   "execution_count": 9,
   "metadata": {
    "execution": {
     "iopub.execute_input": "2020-12-28T04:40:32.012119Z",
     "iopub.status.busy": "2020-12-28T04:40:32.011535Z",
     "iopub.status.idle": "2020-12-28T04:40:35.245893Z",
     "shell.execute_reply": "2020-12-28T04:40:35.245350Z"
    },
    "papermill": {
     "duration": 3.248706,
     "end_time": "2020-12-28T04:40:35.245997",
     "exception": false,
     "start_time": "2020-12-28T04:40:31.997291",
     "status": "completed"
    },
    "tags": []
   },
   "outputs": [
    {
     "name": "stdout",
     "output_type": "stream",
     "text": [
      "Model: \"sequential\"\n",
      "_________________________________________________________________\n",
      "Layer (type)                 Output Shape              Param #   \n",
      "=================================================================\n",
      "conv2d (Conv2D)              (None, 26, 26, 2048)      18432     \n",
      "_________________________________________________________________\n",
      "batch_normalization (BatchNo (None, 26, 26, 2048)      8192      \n",
      "_________________________________________________________________\n",
      "activation (Activation)      (None, 26, 26, 2048)      0         \n",
      "_________________________________________________________________\n",
      "max_pooling2d (MaxPooling2D) (None, 13, 13, 2048)      0         \n",
      "_________________________________________________________________\n",
      "dropout (Dropout)            (None, 13, 13, 2048)      0         \n",
      "_________________________________________________________________\n",
      "conv2d_1 (Conv2D)            (None, 11, 11, 2048)      37748736  \n",
      "_________________________________________________________________\n",
      "batch_normalization_1 (Batch (None, 11, 11, 2048)      8192      \n",
      "_________________________________________________________________\n",
      "activation_1 (Activation)    (None, 11, 11, 2048)      0         \n",
      "_________________________________________________________________\n",
      "max_pooling2d_1 (MaxPooling2 (None, 5, 5, 2048)        0         \n",
      "_________________________________________________________________\n",
      "dropout_1 (Dropout)          (None, 5, 5, 2048)        0         \n",
      "_________________________________________________________________\n",
      "conv2d_2 (Conv2D)            (None, 3, 3, 2048)        37748736  \n",
      "_________________________________________________________________\n",
      "batch_normalization_2 (Batch (None, 3, 3, 2048)        8192      \n",
      "_________________________________________________________________\n",
      "activation_2 (Activation)    (None, 3, 3, 2048)        0         \n",
      "_________________________________________________________________\n",
      "max_pooling2d_2 (MaxPooling2 (None, 1, 1, 2048)        0         \n",
      "_________________________________________________________________\n",
      "dropout_2 (Dropout)          (None, 1, 1, 2048)        0         \n",
      "_________________________________________________________________\n",
      "flatten (Flatten)            (None, 2048)              0         \n",
      "_________________________________________________________________\n",
      "dense (Dense)                (None, 256)               524288    \n",
      "_________________________________________________________________\n",
      "batch_normalization_3 (Batch (None, 256)               1024      \n",
      "_________________________________________________________________\n",
      "activation_3 (Activation)    (None, 256)               0         \n",
      "_________________________________________________________________\n",
      "dropout_3 (Dropout)          (None, 256)               0         \n",
      "_________________________________________________________________\n",
      "dense_1 (Dense)              (None, 10)                2560      \n",
      "_________________________________________________________________\n",
      "batch_normalization_4 (Batch (None, 10)                40        \n",
      "_________________________________________________________________\n",
      "activation_4 (Activation)    (None, 10)                0         \n",
      "=================================================================\n",
      "Total params: 76,068,392\n",
      "Trainable params: 76,055,572\n",
      "Non-trainable params: 12,820\n",
      "_________________________________________________________________\n"
     ]
    }
   ],
   "source": [
    "model = build_cnn_model(layer_size, input_shape, regularizer, drop_size, num_of_classes, lr)\n",
    "model.summary()"
   ]
  },
  {
   "cell_type": "code",
   "execution_count": 10,
   "metadata": {
    "execution": {
     "iopub.execute_input": "2020-12-28T04:40:35.281809Z",
     "iopub.status.busy": "2020-12-28T04:40:35.280933Z",
     "iopub.status.idle": "2020-12-28T04:40:35.283679Z",
     "shell.execute_reply": "2020-12-28T04:40:35.283156Z"
    },
    "papermill": {
     "duration": 0.02122,
     "end_time": "2020-12-28T04:40:35.283782",
     "exception": false,
     "start_time": "2020-12-28T04:40:35.262562",
     "status": "completed"
    },
    "tags": []
   },
   "outputs": [],
   "source": [
    "reduce_lr = ReduceLROnPlateau(monitor='val_loss', factor=0.2,\n",
    "                              patience=5, min_lr=1e-8)"
   ]
  },
  {
   "cell_type": "code",
   "execution_count": 11,
   "metadata": {
    "execution": {
     "iopub.execute_input": "2020-12-28T04:40:35.314148Z",
     "iopub.status.busy": "2020-12-28T04:40:35.312274Z",
     "iopub.status.idle": "2020-12-28T04:40:35.314872Z",
     "shell.execute_reply": "2020-12-28T04:40:35.315359Z"
    },
    "papermill": {
     "duration": 0.019757,
     "end_time": "2020-12-28T04:40:35.315512",
     "exception": false,
     "start_time": "2020-12-28T04:40:35.295755",
     "status": "completed"
    },
    "tags": []
   },
   "outputs": [],
   "source": [
    "nb_epochs   = 75\n",
    "val_split   = 0.2\n",
    "batch_size  = 32"
   ]
  },
  {
   "cell_type": "code",
   "execution_count": 12,
   "metadata": {
    "execution": {
     "iopub.execute_input": "2020-12-28T04:40:35.344226Z",
     "iopub.status.busy": "2020-12-28T04:40:35.343667Z",
     "iopub.status.idle": "2020-12-28T07:35:24.489022Z",
     "shell.execute_reply": "2020-12-28T07:35:24.488097Z"
    },
    "papermill": {
     "duration": 10489.162139,
     "end_time": "2020-12-28T07:35:24.489165",
     "exception": false,
     "start_time": "2020-12-28T04:40:35.327026",
     "status": "completed"
    },
    "tags": []
   },
   "outputs": [
    {
     "name": "stdout",
     "output_type": "stream",
     "text": [
      "Epoch 1/75\n",
      "1050/1050 [==============================] - 140s 133ms/step - loss: 36.8164 - accuracy: 0.6878 - val_loss: 13.8385 - val_accuracy: 0.4107\n",
      "Epoch 2/75\n",
      "1050/1050 [==============================] - 139s 133ms/step - loss: 16.6524 - accuracy: 0.8195 - val_loss: 7.1001 - val_accuracy: 0.4193\n",
      "Epoch 3/75\n",
      "1050/1050 [==============================] - 139s 133ms/step - loss: 6.7684 - accuracy: 0.8525 - val_loss: 3.1717 - val_accuracy: 0.9110\n",
      "Epoch 4/75\n",
      "1050/1050 [==============================] - 139s 133ms/step - loss: 3.1361 - accuracy: 0.8721 - val_loss: 2.0389 - val_accuracy: 0.9406\n",
      "Epoch 5/75\n",
      "1050/1050 [==============================] - 140s 133ms/step - loss: 2.0624 - accuracy: 0.8972 - val_loss: 1.5057 - val_accuracy: 0.9456\n",
      "Epoch 6/75\n",
      "1050/1050 [==============================] - 140s 133ms/step - loss: 1.5537 - accuracy: 0.9146 - val_loss: 1.2597 - val_accuracy: 0.9533\n",
      "Epoch 7/75\n",
      "1050/1050 [==============================] - 139s 133ms/step - loss: 1.2377 - accuracy: 0.9263 - val_loss: 0.9829 - val_accuracy: 0.9650\n",
      "Epoch 8/75\n",
      "1050/1050 [==============================] - 140s 133ms/step - loss: 1.0267 - accuracy: 0.9344 - val_loss: 0.8688 - val_accuracy: 0.9644\n",
      "Epoch 9/75\n",
      "1050/1050 [==============================] - 139s 133ms/step - loss: 0.8830 - accuracy: 0.9420 - val_loss: 0.7028 - val_accuracy: 0.9679\n",
      "Epoch 10/75\n",
      "1050/1050 [==============================] - 139s 133ms/step - loss: 0.7903 - accuracy: 0.9468 - val_loss: 0.5953 - val_accuracy: 0.9752\n",
      "Epoch 11/75\n",
      "1050/1050 [==============================] - 140s 133ms/step - loss: 0.7197 - accuracy: 0.9516 - val_loss: 0.6187 - val_accuracy: 0.9752\n",
      "Epoch 12/75\n",
      "1050/1050 [==============================] - 140s 133ms/step - loss: 0.6597 - accuracy: 0.9543 - val_loss: 0.5523 - val_accuracy: 0.9796\n",
      "Epoch 13/75\n",
      "1050/1050 [==============================] - 140s 133ms/step - loss: 0.6126 - accuracy: 0.9600 - val_loss: 0.4501 - val_accuracy: 0.9810\n",
      "Epoch 14/75\n",
      "1050/1050 [==============================] - 139s 133ms/step - loss: 0.5793 - accuracy: 0.9601 - val_loss: 0.4222 - val_accuracy: 0.9827\n",
      "Epoch 15/75\n",
      "1050/1050 [==============================] - 140s 133ms/step - loss: 0.5475 - accuracy: 0.9631 - val_loss: 0.3789 - val_accuracy: 0.9846\n",
      "Epoch 16/75\n",
      "1050/1050 [==============================] - 139s 133ms/step - loss: 0.5208 - accuracy: 0.9658 - val_loss: 0.3918 - val_accuracy: 0.9827\n",
      "Epoch 17/75\n",
      "1050/1050 [==============================] - 139s 133ms/step - loss: 0.5021 - accuracy: 0.9669 - val_loss: 0.3205 - val_accuracy: 0.9862\n",
      "Epoch 18/75\n",
      "1050/1050 [==============================] - 140s 133ms/step - loss: 0.4810 - accuracy: 0.9677 - val_loss: 0.3278 - val_accuracy: 0.9858\n",
      "Epoch 19/75\n",
      "1050/1050 [==============================] - 139s 133ms/step - loss: 0.4647 - accuracy: 0.9694 - val_loss: 0.3097 - val_accuracy: 0.9846\n",
      "Epoch 20/75\n",
      "1050/1050 [==============================] - 140s 133ms/step - loss: 0.4475 - accuracy: 0.9711 - val_loss: 0.3027 - val_accuracy: 0.9818\n",
      "Epoch 21/75\n",
      "1050/1050 [==============================] - 140s 133ms/step - loss: 0.4308 - accuracy: 0.9726 - val_loss: 0.2617 - val_accuracy: 0.9871\n",
      "Epoch 22/75\n",
      "1050/1050 [==============================] - 140s 133ms/step - loss: 0.4189 - accuracy: 0.9737 - val_loss: 0.2811 - val_accuracy: 0.9863\n",
      "Epoch 23/75\n",
      "1050/1050 [==============================] - 140s 133ms/step - loss: 0.4057 - accuracy: 0.9750 - val_loss: 0.2540 - val_accuracy: 0.9880\n",
      "Epoch 24/75\n",
      "1050/1050 [==============================] - 140s 133ms/step - loss: 0.3966 - accuracy: 0.9756 - val_loss: 0.2598 - val_accuracy: 0.9876\n",
      "Epoch 25/75\n",
      "1050/1050 [==============================] - 140s 133ms/step - loss: 0.3849 - accuracy: 0.9782 - val_loss: 0.2256 - val_accuracy: 0.9881\n",
      "Epoch 26/75\n",
      "1050/1050 [==============================] - 140s 133ms/step - loss: 0.3772 - accuracy: 0.9778 - val_loss: 0.2336 - val_accuracy: 0.9894\n",
      "Epoch 27/75\n",
      "1050/1050 [==============================] - 140s 133ms/step - loss: 0.3707 - accuracy: 0.9774 - val_loss: 0.2155 - val_accuracy: 0.9898\n",
      "Epoch 28/75\n",
      "1050/1050 [==============================] - 140s 133ms/step - loss: 0.3680 - accuracy: 0.9775 - val_loss: 0.2077 - val_accuracy: 0.9882\n",
      "Epoch 29/75\n",
      "1050/1050 [==============================] - 140s 133ms/step - loss: 0.3526 - accuracy: 0.9801 - val_loss: 0.2357 - val_accuracy: 0.9874\n",
      "Epoch 30/75\n",
      "1050/1050 [==============================] - 140s 133ms/step - loss: 0.3465 - accuracy: 0.9807 - val_loss: 0.2202 - val_accuracy: 0.9882\n",
      "Epoch 31/75\n",
      "1050/1050 [==============================] - 140s 133ms/step - loss: 0.3444 - accuracy: 0.9800 - val_loss: 0.2124 - val_accuracy: 0.9869\n",
      "Epoch 32/75\n",
      "1050/1050 [==============================] - 140s 133ms/step - loss: 0.3358 - accuracy: 0.9824 - val_loss: 0.2093 - val_accuracy: 0.9888\n",
      "Epoch 33/75\n",
      "1050/1050 [==============================] - 140s 133ms/step - loss: 0.3320 - accuracy: 0.9813 - val_loss: 0.2008 - val_accuracy: 0.9900\n",
      "Epoch 34/75\n",
      "1050/1050 [==============================] - 140s 133ms/step - loss: 0.3252 - accuracy: 0.9833 - val_loss: 0.1934 - val_accuracy: 0.9900\n",
      "Epoch 35/75\n",
      "1050/1050 [==============================] - 140s 133ms/step - loss: 0.3172 - accuracy: 0.9843 - val_loss: 0.2069 - val_accuracy: 0.9892\n",
      "Epoch 36/75\n",
      "1050/1050 [==============================] - 139s 133ms/step - loss: 0.3153 - accuracy: 0.9834 - val_loss: 0.1934 - val_accuracy: 0.9901\n",
      "Epoch 37/75\n",
      "1050/1050 [==============================] - 140s 133ms/step - loss: 0.3080 - accuracy: 0.9843 - val_loss: 0.1882 - val_accuracy: 0.9889\n",
      "Epoch 38/75\n",
      "1050/1050 [==============================] - 140s 133ms/step - loss: 0.3029 - accuracy: 0.9843 - val_loss: 0.1777 - val_accuracy: 0.9898\n",
      "Epoch 39/75\n",
      "1050/1050 [==============================] - 140s 133ms/step - loss: 0.2992 - accuracy: 0.9843 - val_loss: 0.1784 - val_accuracy: 0.9905\n",
      "Epoch 40/75\n",
      "1050/1050 [==============================] - 140s 133ms/step - loss: 0.2893 - accuracy: 0.9866 - val_loss: 0.1894 - val_accuracy: 0.9890\n",
      "Epoch 41/75\n",
      "1050/1050 [==============================] - 140s 133ms/step - loss: 0.2879 - accuracy: 0.9856 - val_loss: 0.1694 - val_accuracy: 0.9895\n",
      "Epoch 42/75\n",
      "1050/1050 [==============================] - 140s 133ms/step - loss: 0.2829 - accuracy: 0.9872 - val_loss: 0.1578 - val_accuracy: 0.9896\n",
      "Epoch 43/75\n",
      "1050/1050 [==============================] - 140s 133ms/step - loss: 0.2832 - accuracy: 0.9849 - val_loss: 0.1851 - val_accuracy: 0.9877\n",
      "Epoch 44/75\n",
      "1050/1050 [==============================] - 140s 133ms/step - loss: 0.2753 - accuracy: 0.9872 - val_loss: 0.2011 - val_accuracy: 0.9885\n",
      "Epoch 45/75\n",
      "1050/1050 [==============================] - 140s 133ms/step - loss: 0.2723 - accuracy: 0.9869 - val_loss: 0.1855 - val_accuracy: 0.9883\n",
      "Epoch 46/75\n",
      "1050/1050 [==============================] - 140s 133ms/step - loss: 0.2660 - accuracy: 0.9880 - val_loss: 0.1600 - val_accuracy: 0.9896\n",
      "Epoch 47/75\n",
      "1050/1050 [==============================] - 140s 133ms/step - loss: 0.2601 - accuracy: 0.9894 - val_loss: 0.1500 - val_accuracy: 0.9901\n",
      "Epoch 48/75\n",
      "1050/1050 [==============================] - 140s 133ms/step - loss: 0.2556 - accuracy: 0.9890 - val_loss: 0.1630 - val_accuracy: 0.9900\n",
      "Epoch 49/75\n",
      "1050/1050 [==============================] - 140s 133ms/step - loss: 0.2543 - accuracy: 0.9888 - val_loss: 0.1470 - val_accuracy: 0.9908\n",
      "Epoch 50/75\n",
      "1050/1050 [==============================] - 140s 133ms/step - loss: 0.2495 - accuracy: 0.9893 - val_loss: 0.1538 - val_accuracy: 0.9901\n",
      "Epoch 51/75\n",
      "1050/1050 [==============================] - 140s 133ms/step - loss: 0.2464 - accuracy: 0.9893 - val_loss: 0.1492 - val_accuracy: 0.9905\n",
      "Epoch 52/75\n",
      "1050/1050 [==============================] - 140s 133ms/step - loss: 0.2429 - accuracy: 0.9894 - val_loss: 0.1576 - val_accuracy: 0.9876\n",
      "Epoch 53/75\n",
      "1050/1050 [==============================] - 140s 133ms/step - loss: 0.2386 - accuracy: 0.9900 - val_loss: 0.1508 - val_accuracy: 0.9887\n",
      "Epoch 54/75\n",
      "1050/1050 [==============================] - 140s 133ms/step - loss: 0.2349 - accuracy: 0.9900 - val_loss: 0.1462 - val_accuracy: 0.9880\n",
      "Epoch 55/75\n",
      "1050/1050 [==============================] - 139s 133ms/step - loss: 0.2349 - accuracy: 0.9898 - val_loss: 0.1732 - val_accuracy: 0.9881\n",
      "Epoch 56/75\n",
      "1050/1050 [==============================] - 140s 133ms/step - loss: 0.2273 - accuracy: 0.9901 - val_loss: 0.1431 - val_accuracy: 0.9893\n",
      "Epoch 57/75\n",
      "1050/1050 [==============================] - 139s 133ms/step - loss: 0.2250 - accuracy: 0.9909 - val_loss: 0.1415 - val_accuracy: 0.9901\n",
      "Epoch 58/75\n",
      "1050/1050 [==============================] - 140s 133ms/step - loss: 0.2269 - accuracy: 0.9896 - val_loss: 0.1327 - val_accuracy: 0.9894\n",
      "Epoch 59/75\n",
      "1050/1050 [==============================] - 139s 133ms/step - loss: 0.2189 - accuracy: 0.9905 - val_loss: 0.1306 - val_accuracy: 0.9902\n",
      "Epoch 60/75\n",
      "1050/1050 [==============================] - 140s 133ms/step - loss: 0.2151 - accuracy: 0.9909 - val_loss: 0.1390 - val_accuracy: 0.9890\n",
      "Epoch 61/75\n",
      "1050/1050 [==============================] - 139s 133ms/step - loss: 0.2144 - accuracy: 0.9902 - val_loss: 0.1364 - val_accuracy: 0.9887\n",
      "Epoch 62/75\n",
      "1050/1050 [==============================] - 140s 133ms/step - loss: 0.2107 - accuracy: 0.9911 - val_loss: 0.1305 - val_accuracy: 0.9890\n",
      "Epoch 63/75\n",
      "1050/1050 [==============================] - 140s 133ms/step - loss: 0.2088 - accuracy: 0.9910 - val_loss: 0.1299 - val_accuracy: 0.9896\n",
      "Epoch 64/75\n",
      "1050/1050 [==============================] - 140s 133ms/step - loss: 0.2031 - accuracy: 0.9915 - val_loss: 0.1358 - val_accuracy: 0.9899\n",
      "Epoch 65/75\n",
      "1050/1050 [==============================] - 140s 133ms/step - loss: 0.2005 - accuracy: 0.9920 - val_loss: 0.1206 - val_accuracy: 0.9905\n",
      "Epoch 66/75\n",
      "1050/1050 [==============================] - 140s 133ms/step - loss: 0.1984 - accuracy: 0.9915 - val_loss: 0.1246 - val_accuracy: 0.9906\n",
      "Epoch 67/75\n",
      "1050/1050 [==============================] - 139s 133ms/step - loss: 0.1961 - accuracy: 0.9921 - val_loss: 0.1239 - val_accuracy: 0.9895\n",
      "Epoch 68/75\n",
      "1050/1050 [==============================] - 140s 133ms/step - loss: 0.1908 - accuracy: 0.9924 - val_loss: 0.1238 - val_accuracy: 0.9882\n",
      "Epoch 69/75\n",
      "1050/1050 [==============================] - 139s 133ms/step - loss: 0.1931 - accuracy: 0.9918 - val_loss: 0.1287 - val_accuracy: 0.9889\n",
      "Epoch 70/75\n",
      "1050/1050 [==============================] - 140s 133ms/step - loss: 0.1896 - accuracy: 0.9924 - val_loss: 0.1133 - val_accuracy: 0.9901\n",
      "Epoch 71/75\n",
      "1050/1050 [==============================] - 139s 133ms/step - loss: 0.1841 - accuracy: 0.9930 - val_loss: 0.1214 - val_accuracy: 0.9895\n",
      "Epoch 72/75\n",
      "1050/1050 [==============================] - 140s 133ms/step - loss: 0.1790 - accuracy: 0.9939 - val_loss: 0.1112 - val_accuracy: 0.9905\n",
      "Epoch 73/75\n",
      "1050/1050 [==============================] - 139s 133ms/step - loss: 0.1805 - accuracy: 0.9926 - val_loss: 0.1138 - val_accuracy: 0.9889\n",
      "Epoch 74/75\n",
      "1050/1050 [==============================] - 140s 133ms/step - loss: 0.1784 - accuracy: 0.9927 - val_loss: 0.1096 - val_accuracy: 0.9904\n",
      "Epoch 75/75\n",
      "1050/1050 [==============================] - 139s 133ms/step - loss: 0.1730 - accuracy: 0.9939 - val_loss: 0.1102 - val_accuracy: 0.9905\n"
     ]
    }
   ],
   "source": [
    "model.fit(train_data, train_labels, epochs=nb_epochs, validation_split=val_split,\n",
    "          batch_size=batch_size, verbose=1, callbacks=[reduce_lr])\n",
    "\n",
    "model.save(\"model\" + str(time.time()) + \".h5\")"
   ]
  },
  {
   "cell_type": "code",
   "execution_count": 13,
   "metadata": {
    "execution": {
     "iopub.execute_input": "2020-12-28T07:36:23.567216Z",
     "iopub.status.busy": "2020-12-28T07:36:23.564090Z",
     "iopub.status.idle": "2020-12-28T07:36:51.400943Z",
     "shell.execute_reply": "2020-12-28T07:36:51.399753Z"
    },
    "papermill": {
     "duration": 56.962618,
     "end_time": "2020-12-28T07:36:51.401070",
     "exception": false,
     "start_time": "2020-12-28T07:35:54.438452",
     "status": "completed"
    },
    "tags": []
   },
   "outputs": [],
   "source": [
    "pred    = model.predict(test_data)\n",
    "preds   = pred.argmax(axis=-1)\n",
    "\n",
    "results = pd.DataFrame(preds, columns=[\"Label\"])\n",
    "results.index += 1\n",
    "results.to_csv(\"submission\" + str(time.time()) + \".csv\", index_label=\"ImageId\")"
   ]
  }
 ],
 "metadata": {
  "kernelspec": {
   "display_name": "Python 3",
   "language": "python",
   "name": "python3"
  },
  "language_info": {
   "codemirror_mode": {
    "name": "ipython",
    "version": 3
   },
   "file_extension": ".py",
   "mimetype": "text/x-python",
   "name": "python",
   "nbconvert_exporter": "python",
   "pygments_lexer": "ipython3",
   "version": "3.7.6"
  },
  "papermill": {
   "duration": 10627.922934,
   "end_time": "2020-12-28T07:37:22.314530",
   "environment_variables": {},
   "exception": null,
   "input_path": "__notebook__.ipynb",
   "output_path": "__notebook__.ipynb",
   "parameters": {},
   "start_time": "2020-12-28T04:40:14.391596",
   "version": "2.1.0"
  }
 },
 "nbformat": 4,
 "nbformat_minor": 4
}
